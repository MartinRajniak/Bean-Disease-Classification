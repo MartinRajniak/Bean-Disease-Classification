{
 "cells": [
  {
   "cell_type": "markdown",
   "metadata": {
    "id": "header"
   },
   "source": [
    "# Bean Disease Classification - Google Colab Training\n",
    "\n",
    "This notebook allows you to train the bean disease classification model on Google Colab's free GPU.\n",
    "\n",
    "## Setup Instructions\n",
    "1. **Enable GPU**: Runtime \u2192 Change runtime type \u2192 Hardware accelerator \u2192 GPU (T4)\n",
    "2. **Run all cells**: Runtime \u2192 Run all\n",
    "3. **Download models**: After training completes, download the models from the Files panel\n",
    "\n",
    "## What This Does\n",
    "- Clones the project repository\n",
    "- Installs dependencies\n",
    "- Trains a transfer learning model (Xception/EfficientNetV2/MobileNet)\n",
    "- Generates Keras model + TFLite model for mobile deployment\n",
    "- Provides downloadable model files\n",
    "\n",
    "**Training Time**: ~15-30 minutes on T4 GPU (depends on configuration)"
   ]
  },
  {
   "cell_type": "markdown",
   "metadata": {
    "id": "setup"
   },
   "source": [
    "## 1. Environment Setup"
   ]
  },
  {
   "cell_type": "code",
   "execution_count": null,
   "metadata": {
    "id": "check_gpu"
   },
   "outputs": [],
   "source": [
    "# Check GPU availability\n",
    "!nvidia-smi"
   ]
  },
  {
   "cell_type": "code",
   "execution_count": null,
   "metadata": {
    "id": "clone_repo"
   },
   "outputs": [],
   "source": [
    "# Clone the repository\n",
    "!git clone https://github.com/martinr92/Bean-Disease-Classification.git\n",
    "%cd Bean-Disease-Classification"
   ]
  },
  {
   "cell_type": "code",
   "execution_count": null,
   "metadata": {
    "id": "install_deps"
   },
   "outputs": [],
   "source": [
    "# Install dependencies\n",
    "!pip install -q tensorflow==2.19.0\n",
    "!pip install -q tensorflow-datasets==4.9.9\n",
    "!pip install -q scikit-learn==1.6.1\n",
    "!pip install -q numpy==2.1.3\n",
    "!pip install -q Pillow==10.4.0\n",
    "\n",
    "print(\"\u2705 Dependencies installed\")"
   ]
  },
  {
   "cell_type": "markdown",
   "metadata": {
    "id": "config"
   },
   "source": [
    "## 2. Training Configuration\n",
    "\n",
    "Adjust these parameters to customize your training:"
   ]
  },
  {
   "cell_type": "code",
   "execution_count": null,
   "metadata": {
    "id": "config_params"
   },
   "outputs": [],
   "source": [
    "# Training Configuration\n",
    "TRAINING_CONFIG = {\n",
    "    # Model selection (XCEPTION, EFFICIENT_NET_V2, MOBILE_NET)\n",
    "    \"base_model\": \"XCEPTION\",\n",
    "    \n",
    "    # Training epochs\n",
    "    \"epochs_pretrain\": 5,      # Initial training with frozen base\n",
    "    \"epochs_finetune\": 10,     # Fine-tuning with unfrozen layers\n",
    "    \n",
    "    # Learning rates\n",
    "    \"initial_lr\": 0.1,         # Learning rate for pretraining\n",
    "    \"finetune_lr\": 0.01,       # Learning rate for fine-tuning\n",
    "    \n",
    "    # Data\n",
    "    \"batch_size\": 16,\n",
    "    \"train_size\": 1034,\n",
    "    \"val_size\": 133,\n",
    "    \"test_size\": 128,\n",
    "    \n",
    "    # Other\n",
    "    \"random_seed\": 42,\n",
    "    \"patience\": 10,            # Early stopping patience\n",
    "}\n",
    "\n",
    "print(\"Training Configuration:\")\n",
    "for key, value in TRAINING_CONFIG.items():\n",
    "    print(f\"  {key}: {value}\")"
   ]
  },
  {
   "cell_type": "markdown",
   "metadata": {
    "id": "setup_dirs"
   },
   "source": [
    "## 3. Setup Output Directories"
   ]
  },
  {
   "cell_type": "code",
   "execution_count": null,
   "metadata": {
    "id": "create_dirs"
   },
   "outputs": [],
   "source": [
    "import os\n",
    "\n",
    "# Create output directory for models\n",
    "OUTPUT_DIR = \"/content/models\"\n",
    "os.makedirs(OUTPUT_DIR, exist_ok=True)\n",
    "\n",
    "print(f\"\u2705 Output directory created: {OUTPUT_DIR}\")"
   ]
  },
  {
   "cell_type": "markdown",
   "metadata": {
    "id": "training"
   },
   "source": [
    "## 4. Train Model\n",
    "\n",
    "This will take approximately 15-30 minutes depending on your configuration.\n",
    "\n",
    "**Note**: Uses the same training code as local and cloud options!"
   ]
  },
  {
   "cell_type": "code",
   "execution_count": null,
   "metadata": {
    "id": "run_training"
   },
   "outputs": [],
   "source": [
    "import sys\n",
    "import os\n",
    "import datetime\n",
    "\n",
    "# Add src directory to Python path\n",
    "src_path = '/content/Bean-Disease-Classification/src'\n",
    "if src_path not in sys.path:\n",
    "    sys.path.insert(0, src_path)\n",
    "\n",
    "# Verify the path exists\n",
    "if not os.path.exists(src_path):\n",
    "    raise FileNotFoundError(f\"Source directory not found: {src_path}. Make sure you ran the clone cell first.\")\n",
    "\n",
    "# Import training modules\n",
    "from config.training_config import TrainingConfig, BaseModel, Optimizer, DatasetSource\n",
    "from training.trainer import train_model_core  # Core training without MLflow\n",
    "\n",
    "# Create configuration\n",
    "base_model_map = {\n",
    "    \"XCEPTION\": BaseModel.XCEPTION,\n",
    "    \"EFFICIENT_NET_V2\": BaseModel.EFFICIENT_NET_V2,\n",
    "    \"MOBILE_NET\": BaseModel.MOBILE_NET,\n",
    "}\n",
    "\n",
    "config = TrainingConfig(\n",
    "    base_model=base_model_map[TRAINING_CONFIG[\"base_model\"]],\n",
    "    optimizer=Optimizer.SGD,\n",
    "    dataset_source=DatasetSource.TENSORFLOW,\n",
    "    epochs_pretrain=TRAINING_CONFIG[\"epochs_pretrain\"],\n",
    "    epochs_finetune=TRAINING_CONFIG[\"epochs_finetune\"],\n",
    "    initial_lr=TRAINING_CONFIG[\"initial_lr\"],\n",
    "    finetune_lr=TRAINING_CONFIG[\"finetune_lr\"],\n",
    "    batch_size=TRAINING_CONFIG[\"batch_size\"],\n",
    "    train_size=TRAINING_CONFIG[\"train_size\"],\n",
    "    val_size=TRAINING_CONFIG[\"val_size\"],\n",
    "    test_size=TRAINING_CONFIG[\"test_size\"],\n",
    "    random_seed=TRAINING_CONFIG[\"random_seed\"],\n",
    "    patience=TRAINING_CONFIG[\"patience\"],\n",
    "    experiment_name=\"bean_disease_colab\",\n",
    "    run_name=f\"colab_training_{datetime.datetime.now().strftime('%Y%m%d_%H%M%S')}\",\n",
    "    mlflow_tracking_uri=\"\",  # No MLflow on Colab\n",
    ")\n",
    "\n",
    "print(\"=\"*60)\n",
    "print(\"Starting training...\")\n",
    "print(f\"Model: {TRAINING_CONFIG['base_model']}\")\n",
    "print(f\"Epochs: {TRAINING_CONFIG['epochs_pretrain']} + {TRAINING_CONFIG['epochs_finetune']}\")\n",
    "print(\"=\"*60)\n",
    "print()\n",
    "\n",
    "# Train model using same code as local/cloud\n",
    "try:\n",
    "    result = train_model_core(config, output_dir=OUTPUT_DIR)\n",
    "    \n",
    "    print(\"\\n\" + \"=\"*60)\n",
    "    print(\"\u2705 TRAINING COMPLETED SUCCESSFULLY!\")\n",
    "    print(\"=\"*60)\n",
    "    print(f\"Test Accuracy: {result['metrics']['test_accuracy']:.4f}\")\n",
    "    print(f\"Test Loss:     {result['metrics']['test_loss']:.4f}\")\n",
    "    print(f\"TFLite Size:   {result['tflite_size_mb']:.2f} MB\")\n",
    "    print(f\"Models saved:  {OUTPUT_DIR}\")\n",
    "    print(\"=\"*60)\n",
    "except Exception as e:\n",
    "    print(f\"\\n\u274c Training failed: {str(e)}\")\n",
    "    import traceback\n",
    "    traceback.print_exc()\n",
    "    raise"
   ]
  },
  {
   "cell_type": "markdown",
   "metadata": {
    "id": "download"
   },
   "source": [
    "## 5. Download Models\n",
    "\n",
    "Run this cell to download both models to your computer."
   ]
  },
  {
   "cell_type": "code",
   "execution_count": null,
   "metadata": {
    "id": "download_models"
   },
   "outputs": [],
   "source": [
    "from google.colab import files\n",
    "import os\n",
    "\n",
    "# Download Keras model\n",
    "keras_model_path = os.path.join(OUTPUT_DIR, \"bean_disease_model.keras\")\n",
    "if os.path.exists(keras_model_path):\n",
    "    print(\"Downloading Keras model...\")\n",
    "    files.download(keras_model_path)\n",
    "    print(\"\u2705 Keras model downloaded\")\n",
    "\n",
    "# Download TFLite model\n",
    "tflite_model_path = os.path.join(OUTPUT_DIR, \"bean_disease_model.tflite\")\n",
    "if os.path.exists(tflite_model_path):\n",
    "    print(\"Downloading TFLite model...\")\n",
    "    files.download(tflite_model_path)\n",
    "    print(\"\u2705 TFLite model downloaded\")\n",
    "\n",
    "print(\"\\n\ud83d\udce6 All models downloaded! You can now use them in your applications.\")"
   ]
  },
  {
   "cell_type": "markdown",
   "metadata": {
    "id": "alternative_download"
   },
   "source": [
    "### Alternative: Download via Files Panel\n",
    "\n",
    "You can also manually download the models:\n",
    "1. Click the folder icon on the left sidebar\n",
    "2. Navigate to `/content/models/`\n",
    "3. Right-click on the model files and select \"Download\"\n",
    "\n",
    "**Files:**\n",
    "- `bean_disease_model.keras` - Full Keras model\n",
    "- `bean_disease_model.tflite` - TensorFlow Lite model for mobile"
   ]
  },
  {
   "cell_type": "markdown",
   "metadata": {
    "id": "results"
   },
   "source": [
    "## 6. Model Evaluation Results\n",
    "\n",
    "View your model's performance:"
   ]
  },
  {
   "cell_type": "code",
   "execution_count": null,
   "metadata": {
    "id": "show_results"
   },
   "outputs": [],
   "source": [
    "# Display training results\n",
    "if 'result' in locals():\n",
    "    print(\"=\"*60)\n",
    "    print(\"TRAINING RESULTS\")\n",
    "    print(\"=\"*60)\n",
    "    metrics = result['metrics']\n",
    "    print(f\"Final Training Accuracy:   {metrics['final_train_accuracy']:.4f}\")\n",
    "    print(f\"Final Validation Accuracy: {metrics['final_val_accuracy']:.4f}\")\n",
    "    print(f\"Test Accuracy:             {metrics['test_accuracy']:.4f}\")\n",
    "    print(f\"Test Loss:                 {metrics['test_loss']:.4f}\")\n",
    "    print(\"=\"*60)\n",
    "    print(f\"TFLite Model Size:         {result['tflite_size_mb']:.2f} MB\")\n",
    "    print(\"=\"*60)\n",
    "else:\n",
    "    print(\"\u26a0\ufe0f Training not completed yet. Run the training cell first.\")"
   ]
  },
  {
   "cell_type": "markdown",
   "metadata": {
    "id": "next_steps"
   },
   "source": [
    "## Next Steps\n",
    "\n",
    "### Using Your Trained Model\n",
    "\n",
    "**Keras Model (.keras):**\n",
    "- Use for further training or experimentation\n",
    "- Deploy to cloud services (TensorFlow Serving, Cloud Run)\n",
    "- Use in Python applications\n",
    "\n",
    "**TFLite Model (.tflite):**\n",
    "- Deploy to Android/iOS mobile apps\n",
    "- Use on edge devices (Raspberry Pi, etc.)\n",
    "- Optimized for inference on resource-constrained devices\n",
    "\n",
    "### Training Options Comparison\n",
    "\n",
    "| Option | GPU | Cost | Setup | MLflow Tracking | Same Code |\n",
    "|--------|-----|------|-------|-----------------|----------|\n",
    "| **Local** | Your GPU | $0 | Complex (Docker, NVIDIA Toolkit) | \u2705 Yes | \u2705 Yes |\n",
    "| **Colab** | Free T4 | $0 (free tier) | Simple (just upload notebook) | \u274c No | \u2705 Yes |\n",
    "| **Cloud** | GCP GPU | ~$1-2/hour | Medium (Cloud Run setup) | \u2705 Yes | \u2705 Yes |\n",
    "\n",
    "### Repository\n",
    "- GitHub: https://github.com/martinr92/Bean-Disease-Classification\n",
    "- Full documentation in README.md\n",
    "\n",
    "### Key Point\n",
    "\u2705 **This notebook uses the exact same training code (`train_model_core`) as local and cloud options!**\n",
    "- The only difference is MLflow tracking (enabled for local/cloud, disabled for Colab)\n",
    "- This ensures consistent results across all training environments"
   ]
  }
 ],
 "metadata": {
  "accelerator": "GPU",
  "colab": {
   "gpuType": "T4",
   "provenance": []
  },
  "kernelspec": {
   "display_name": "Python 3",
   "name": "python3"
  },
  "language_info": {
   "name": "python"
  }
 },
 "nbformat": 4,
 "nbformat_minor": 0
}